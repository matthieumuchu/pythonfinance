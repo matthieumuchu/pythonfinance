{
 "cells": [
  {
   "cell_type": "code",
   "execution_count": 1,
   "id": "8242245c",
   "metadata": {},
   "outputs": [
    {
     "name": "stdout",
     "output_type": "stream",
     "text": [
      "Collecting tejapi\n",
      "  Downloading tejapi-0.1.22-py2.py3-none-any.whl (15 kB)\n",
      "Requirement already satisfied: pandas>=0.18.1 in c:\\programdata\\anaconda3\\lib\\site-packages (from tejapi) (1.3.4)\n",
      "Requirement already satisfied: numpy>=1.8 in c:\\programdata\\anaconda3\\lib\\site-packages (from tejapi) (1.20.3)\n",
      "Requirement already satisfied: requests>=2.7.0 in c:\\programdata\\anaconda3\\lib\\site-packages (from tejapi) (2.26.0)\n",
      "Requirement already satisfied: six in c:\\programdata\\anaconda3\\lib\\site-packages (from tejapi) (1.16.0)\n",
      "Requirement already satisfied: inflection>=0.3.1 in c:\\programdata\\anaconda3\\lib\\site-packages (from tejapi) (0.5.1)\n",
      "Requirement already satisfied: python-dateutil in c:\\programdata\\anaconda3\\lib\\site-packages (from tejapi) (2.8.2)\n",
      "Requirement already satisfied: more-itertools in c:\\programdata\\anaconda3\\lib\\site-packages (from tejapi) (8.10.0)\n",
      "Requirement already satisfied: pytz>=2017.3 in c:\\programdata\\anaconda3\\lib\\site-packages (from pandas>=0.18.1->tejapi) (2021.3)\n",
      "Requirement already satisfied: idna<4,>=2.5 in c:\\programdata\\anaconda3\\lib\\site-packages (from requests>=2.7.0->tejapi) (3.2)\n",
      "Requirement already satisfied: certifi>=2017.4.17 in c:\\programdata\\anaconda3\\lib\\site-packages (from requests>=2.7.0->tejapi) (2021.10.8)\n",
      "Requirement already satisfied: charset-normalizer~=2.0.0 in c:\\programdata\\anaconda3\\lib\\site-packages (from requests>=2.7.0->tejapi) (2.0.4)\n",
      "Requirement already satisfied: urllib3<1.27,>=1.21.1 in c:\\programdata\\anaconda3\\lib\\site-packages (from requests>=2.7.0->tejapi) (1.26.7)\n",
      "Installing collected packages: tejapi\n",
      "Successfully installed tejapi-0.1.22\n"
     ]
    }
   ],
   "source": [
    "!pip install tejapi"
   ]
  },
  {
   "cell_type": "code",
   "execution_count": 4,
   "id": "6d6c3d2f",
   "metadata": {},
   "outputs": [],
   "source": [
    "import tejapi\n",
    "import pandas as pd\n",
    "import numpy as np\n",
    "tejapi.ApiConfig.api_key=\"\"\n",
    "import datetime\n",
    "import matplotlib.pyplot as plt"
   ]
  },
  {
   "cell_type": "code",
   "execution_count": 6,
   "id": "8b1c5d54",
   "metadata": {},
   "outputs": [],
   "source": [
    "df=pd.read_csv(\"C:\\\\Users\\\\starg\\\\TEJ_examples\\\\TW50.csv\",encoding=\"big5\")"
   ]
  },
  {
   "cell_type": "code",
   "execution_count": null,
   "id": "83037412",
   "metadata": {},
   "outputs": [],
   "source": []
  },
  {
   "cell_type": "code",
   "execution_count": null,
   "id": "8e31fedf",
   "metadata": {},
   "outputs": [],
   "source": []
  }
 ],
 "metadata": {
  "kernelspec": {
   "display_name": "Python 3 (ipykernel)",
   "language": "python",
   "name": "python3"
  },
  "language_info": {
   "codemirror_mode": {
    "name": "ipython",
    "version": 3
   },
   "file_extension": ".py",
   "mimetype": "text/x-python",
   "name": "python",
   "nbconvert_exporter": "python",
   "pygments_lexer": "ipython3",
   "version": "3.9.7"
  }
 },
 "nbformat": 4,
 "nbformat_minor": 5
}
