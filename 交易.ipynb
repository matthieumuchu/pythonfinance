{
 "cells": [
  {
   "cell_type": "code",
   "execution_count": null,
   "id": "c7be6856",
   "metadata": {},
   "outputs": [],
   "source": []
  },
  {
   "cell_type": "code",
   "execution_count": null,
   "id": "7c7c2468",
   "metadata": {},
   "outputs": [],
   "source": [
    "import requests\n",
    "import sklearn\n",
    "x=10\n",
    "x=20\n",
    "from io import StringIO\n",
    "import pandas as pd\n",
    "import numpy as np\n",
    "import time\n",
    "from datetime import datetime\n",
    "import twstock\n",
    "import datetime as dt\n",
    "total=[]\n",
    "for i in twstock.codes:\n",
    "    total.append(twstock.codes[i])\n",
    "df=pd.DataFrame(total)\n",
    "df2=df[(df[\"market\"]==\"上市\") & ((df[\"type\"]==\"ETF\")|(df[\"type\"]==\"臺灣存託憑證(TDR)\")|(df[\"type\"]==\"受益證券-不動產投資信託\"))]\n",
    "subdf=df2[df2[\"market\"]==\"上市\"]\n",
    "\n",
    "for i in subdf[\"code\"]:\n",
    "    year_num=2017\n",
    "    month_num=1\n",
    "    date=datetime(year_num,month_num,1)\n",
    "    while date<datetime(2022,3,1):\n",
    "        date_code=\"\"\n",
    "        date_code=date_code+str(date.year)\n",
    "        month=str(date.month)\n",
    "        if len(month)==1:\n",
    "            month=\"0\"+month\n",
    "        date_code=date_code+month\n",
    "        day=str(date.day)\n",
    "        if len(day)==1:\n",
    "            day=\"0\"+day\n",
    "        date_code=date_code+day\n",
    "        print(date_code)\n",
    "\n",
    "\n",
    "\n",
    "        print(\"https://www.twse.com.tw/exchangeReport/STOCK_DAY?response=html&date=\"+date_code+\"&stockNo=\"+i)\n",
    "        try:\n",
    "            requests.get(\"https://www.twse.com.tw/exchangeReport/STOCK_DAY?response=html&date=\"+date_code+\"&stockNo=\"+i)\n",
    "            status=True\n",
    "        except:\n",
    "            print(\"currently sleeping\")\n",
    "            status=False\n",
    "            time.sleep(600)\n",
    "            print(\"revert\")\n",
    "        if status==True:\n",
    "            try:\n",
    "                r=pd.read_html(\"https://www.twse.com.tw/exchangeReport/STOCK_DAY?response=html&date=\"+date_code+\"&stockNo=\"+i)\n",
    "                r[0].to_csv(\"C:\\\\Users\\\\starg\\\\Downloads\\\\TWSE_data\\\\\"+i+\"_\"+date_code+\".csv\")\n",
    "            except:\n",
    "                print(\"no table\")\n",
    "            time.sleep(5)\n",
    "            print(month_num)\n",
    "            if month_num==12:\n",
    "                month_num=1\n",
    "                year_num=year_num+1\n",
    "            else:\n",
    "                 month_num=month_num+1\n",
    "            date=datetime(year_num,month_num,1)\n",
    "        else:\n",
    "            continue\n",
    "            \n",
    "            "
   ]
  },
  {
   "cell_type": "code",
   "execution_count": null,
   "id": "5b5e1870",
   "metadata": {},
   "outputs": [],
   "source": []
  },
  {
   "cell_type": "code",
   "execution_count": null,
   "id": "57b08642",
   "metadata": {},
   "outputs": [],
   "source": []
  },
  {
   "cell_type": "code",
   "execution_count": null,
   "id": "f3c485be",
   "metadata": {},
   "outputs": [],
   "source": []
  },
  {
   "cell_type": "code",
   "execution_count": null,
   "id": "9810ba20",
   "metadata": {},
   "outputs": [],
   "source": []
  },
  {
   "cell_type": "code",
   "execution_count": null,
   "id": "b6039ef4",
   "metadata": {},
   "outputs": [],
   "source": []
  },
  {
   "cell_type": "code",
   "execution_count": null,
   "id": "b7ab9418",
   "metadata": {},
   "outputs": [],
   "source": []
  },
  {
   "cell_type": "code",
   "execution_count": null,
   "id": "2db81785",
   "metadata": {},
   "outputs": [],
   "source": []
  },
  {
   "cell_type": "code",
   "execution_count": null,
   "id": "2676b95a",
   "metadata": {},
   "outputs": [],
   "source": []
  }
 ],
 "metadata": {
  "kernelspec": {
   "display_name": "Python 3 (ipykernel)",
   "language": "python",
   "name": "python3"
  },
  "language_info": {
   "codemirror_mode": {
    "name": "ipython",
    "version": 3
   },
   "file_extension": ".py",
   "mimetype": "text/x-python",
   "name": "python",
   "nbconvert_exporter": "python",
   "pygments_lexer": "ipython3",
   "version": "3.9.7"
  }
 },
 "nbformat": 4,
 "nbformat_minor": 5
}
