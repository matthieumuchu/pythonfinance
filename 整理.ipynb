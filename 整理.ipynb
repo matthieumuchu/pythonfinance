{
 "cells": [
  {
   "cell_type": "code",
   "execution_count": 136,
   "id": "1c295822",
   "metadata": {},
   "outputs": [],
   "source": [
    "import pandas as pd\n",
    "import os\n",
    "target_list=[\"企業價值.csv\",\"公司成長.csv\",\"公司資料.csv\",\"基本財報.csv\",\"獲利能力.csv\",\"股利政策.csv\",\"財務安全.csv\"]\n",
    "file_list=os.listdir(\"C:\\\\Users\\\\starg\\\\Downloads\\\\Hi_stock_data\\\\\")\n",
    "for t in target_list:\n",
    "    counter=0\n",
    "    for r in file_list:\n",
    "        name=r.split(\"_\")\n",
    "        #print(name)\n",
    "        if name[1]==t and len(name[0])==4:\n",
    "            if counter==0:\n",
    "                df=pd.read_csv(\"C:\\\\Users\\\\starg\\\\Downloads\\\\Hi_stock_data\\\\\"+r,index_col=0)\n",
    "                df=df.loc[df.index[1:]]\n",
    "                df[\"公司名稱\"]=[name[0]]*len(df)\n",
    "            else:\n",
    "                subdf=pd.read_csv(\"C:\\\\Users\\\\starg\\\\Downloads\\\\Hi_stock_data\\\\\"+r,index_col=0)\n",
    "                subdf=subdf.loc[subdf.index[1:]]\n",
    "                subdf[\"公司名稱\"]=[name[0]]*len(subdf)\n",
    "                #print(subdf)\n",
    "\n",
    "                df=df.append(subdf)\n",
    "            counter=counter+1\n",
    "    df.to_csv(\"C:\\\\Users\\\\starg\\\\Downloads\\\\Hi_stock_data\\\\\"+t)\n",
    "            \n",
    "            \n"
   ]
  },
  {
   "cell_type": "code",
   "execution_count": null,
   "id": "0b706404",
   "metadata": {},
   "outputs": [],
   "source": []
  },
  {
   "cell_type": "code",
   "execution_count": null,
   "id": "4b400815",
   "metadata": {},
   "outputs": [],
   "source": []
  },
  {
   "cell_type": "code",
   "execution_count": null,
   "id": "f767dd53",
   "metadata": {},
   "outputs": [],
   "source": []
  },
  {
   "cell_type": "code",
   "execution_count": 77,
   "id": "1442e336",
   "metadata": {},
   "outputs": [],
   "source": []
  },
  {
   "cell_type": "code",
   "execution_count": null,
   "id": "1adff7d7",
   "metadata": {},
   "outputs": [],
   "source": []
  },
  {
   "cell_type": "code",
   "execution_count": 100,
   "id": "17711ba0",
   "metadata": {},
   "outputs": [],
   "source": []
  },
  {
   "cell_type": "code",
   "execution_count": 138,
   "id": "7d915766",
   "metadata": {},
   "outputs": [],
   "source": []
  },
  {
   "cell_type": "code",
   "execution_count": 154,
   "id": "15db7e87",
   "metadata": {},
   "outputs": [],
   "source": []
  },
  {
   "cell_type": "code",
   "execution_count": 151,
   "id": "877dbc17",
   "metadata": {},
   "outputs": [],
   "source": []
  },
  {
   "cell_type": "code",
   "execution_count": null,
   "id": "3430e356",
   "metadata": {},
   "outputs": [],
   "source": []
  },
  {
   "cell_type": "code",
   "execution_count": null,
   "id": "c9869f88",
   "metadata": {},
   "outputs": [],
   "source": []
  },
  {
   "cell_type": "code",
   "execution_count": 164,
   "id": "5cce784f",
   "metadata": {},
   "outputs": [],
   "source": []
  },
  {
   "cell_type": "code",
   "execution_count": null,
   "id": "0201b4e8",
   "metadata": {},
   "outputs": [],
   "source": []
  },
  {
   "cell_type": "code",
   "execution_count": null,
   "id": "dd210749",
   "metadata": {},
   "outputs": [],
   "source": []
  }
 ],
 "metadata": {
  "kernelspec": {
   "display_name": "Python 3 (ipykernel)",
   "language": "python",
   "name": "python3"
  },
  "language_info": {
   "codemirror_mode": {
    "name": "ipython",
    "version": 3
   },
   "file_extension": ".py",
   "mimetype": "text/x-python",
   "name": "python",
   "nbconvert_exporter": "python",
   "pygments_lexer": "ipython3",
   "version": "3.9.7"
  }
 },
 "nbformat": 4,
 "nbformat_minor": 5
}
